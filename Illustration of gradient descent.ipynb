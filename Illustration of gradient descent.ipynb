{
 "cells": [
  {
   "cell_type": "code",
   "execution_count": 1,
   "metadata": {},
   "outputs": [],
   "source": [
    "import numpy as np\n",
    "import pandas as pd"
   ]
  },
  {
   "cell_type": "code",
   "execution_count": 2,
   "metadata": {},
   "outputs": [],
   "source": [
    "#generating 100 random numbers between 1 to 20\n",
    "x1 = np.random.randint(low=1,high=20,size=(100,))"
   ]
  },
  {
   "cell_type": "code",
   "execution_count": 3,
   "metadata": {},
   "outputs": [],
   "source": [
    "#generating 100 random numbers between 1 to 20\n",
    "x2 = np.random.randint(low=1,high=20,size=(100,))"
   ]
  },
  {
   "cell_type": "code",
   "execution_count": 4,
   "metadata": {},
   "outputs": [
    {
     "data": {
      "text/plain": [
       "array([ 3,  6,  9, 12, 13, 13, 19,  1, 10, 18,  8,  9,  9,  6, 17, 18, 17,\n",
       "       17, 12, 17, 17, 14,  7,  7, 10, 10, 15,  5,  7,  1, 19, 17, 18, 18,\n",
       "       15, 17, 11, 15, 13, 17, 16, 11,  2, 13, 12,  2,  3, 19, 13, 17, 13,\n",
       "        1, 15,  6, 16,  4, 16, 19,  6, 18,  5,  3, 13, 18, 11,  5, 11,  3,\n",
       "        8,  3,  4, 11, 11, 11, 16,  7, 14,  4,  7,  3,  2, 19,  3, 17, 14,\n",
       "        8, 10,  3, 12,  5, 10, 15, 11, 11,  1,  3, 19, 16, 17,  5])"
      ]
     },
     "execution_count": 4,
     "metadata": {},
     "output_type": "execute_result"
    }
   ],
   "source": [
    "x1"
   ]
  },
  {
   "cell_type": "code",
   "execution_count": 5,
   "metadata": {},
   "outputs": [
    {
     "data": {
      "text/plain": [
       "array([ 5, 10, 10,  7,  3,  8,  7,  1,  6,  6,  6, 14, 15,  6, 13, 14,  8,\n",
       "        4, 13, 11,  6, 15,  6, 19,  3,  4, 19, 19,  7,  4, 17,  7, 19,  1,\n",
       "        1,  5, 11,  5, 10, 13,  8, 12,  8, 17, 12,  5, 12, 15,  5,  8,  2,\n",
       "        6, 18, 10,  6, 10, 10, 18,  1, 16, 14,  1, 18,  7, 17, 14, 10,  4,\n",
       "       14,  8, 18, 12,  6, 15, 16, 11,  1, 19, 15,  3, 10,  2, 11, 14,  3,\n",
       "        9,  3,  1,  1, 12, 11, 15, 11, 11, 12,  7,  2,  8, 11, 18])"
      ]
     },
     "execution_count": 5,
     "metadata": {},
     "output_type": "execute_result"
    }
   ],
   "source": [
    "x2"
   ]
  },
  {
   "cell_type": "markdown",
   "metadata": {},
   "source": [
    "Let's simulate data based on x1 and x2 and use gradient descent and see how close is the co-efficient values estimated by gradient descent algorithm"
   ]
  },
  {
   "cell_type": "code",
   "execution_count": 6,
   "metadata": {},
   "outputs": [],
   "source": [
    "#generating y values as a linear combination of x1 and x2 along with some noise(random numbers)\n",
    "y = 3 + 4*x1 - 2*x2 + np.random.random((100,))\n",
    "# here beta_0 = 3,beta_1 = 4,beta_2 = -2"
   ]
  },
  {
   "cell_type": "markdown",
   "metadata": {},
   "source": [
    "The simulated data is as per the above formula.Let's pretend that we don't know the co_efficients of x1 and x2 and find the co_efficients of x1 and x2,with the data x1,x2 and y"
   ]
  },
  {
   "cell_type": "code",
   "execution_count": 7,
   "metadata": {},
   "outputs": [
    {
     "data": {
      "text/plain": [
       "array([ 5.93192140e+00,  7.78273111e+00,  1.95281475e+01,  3.73697871e+01,\n",
       "        4.94196326e+01,  3.95398776e+01,  6.52189245e+01,  5.83022702e+00,\n",
       "        3.12527931e+01,  6.33248450e+01,  2.32227108e+01,  1.11194284e+01,\n",
       "        9.80694362e+00,  1.55749596e+01,  4.53650203e+01,  4.76700399e+01,\n",
       "        5.58506516e+01,  6.35445508e+01,  2.54571787e+01,  4.97052752e+01,\n",
       "        5.92700391e+01,  2.92767663e+01,  1.97884844e+01, -6.87908598e+00,\n",
       "        3.74891331e+01,  3.54791938e+01,  2.57414915e+01, -1.40593869e+01,\n",
       "        1.78356868e+01, -4.23259429e-01,  4.50361374e+01,  5.77522239e+01,\n",
       "        3.78818166e+01,  7.33386413e+01,  6.11382815e+01,  6.10227245e+01,\n",
       "        2.56987305e+01,  5.37862895e+01,  3.58320222e+01,  4.58936659e+01,\n",
       "        5.19740889e+01,  2.37588136e+01, -4.89718422e+00,  2.19136413e+01,\n",
       "        2.78822647e+01,  1.47336139e+00, -8.57006389e+00,  4.93584208e+01,\n",
       "        4.56847129e+01,  5.57439610e+01,  5.14413943e+01, -4.70517243e+00,\n",
       "        2.70911230e+01,  7.60653540e+00,  5.51546407e+01, -9.85499275e-01,\n",
       "        4.78266011e+01,  4.34929884e+01,  2.50806705e+01,  4.33058378e+01,\n",
       "       -4.69699212e+00,  1.32459615e+01,  1.98051837e+01,  6.11424450e+01,\n",
       "        1.38856336e+01, -4.63684839e+00,  2.72053925e+01,  7.13523593e+00,\n",
       "        7.77788194e+00, -6.38376724e-01, -1.63454140e+01,  2.32930368e+01,\n",
       "        3.58566431e+01,  1.72413219e+01,  3.53367806e+01,  9.97572430e+00,\n",
       "        5.74019761e+01, -1.82918038e+01,  1.52342881e+00,  9.18714893e+00,\n",
       "       -8.58534756e+00,  7.54702373e+01, -6.36456154e+00,  4.33977265e+01,\n",
       "        5.31007098e+01,  1.79645485e+01,  3.72916674e+01,  1.31433817e+01,\n",
       "        4.98726254e+01, -2.80083369e-02,  2.12941562e+01,  3.30074849e+01,\n",
       "        2.53720181e+01,  2.57836657e+01, -1.66226308e+01,  1.72403062e+00,\n",
       "        7.51596995e+01,  5.17101869e+01,  4.90767714e+01, -1.24643458e+01])"
      ]
     },
     "execution_count": 7,
     "metadata": {},
     "output_type": "execute_result"
    }
   ],
   "source": [
    "y"
   ]
  },
  {
   "cell_type": "code",
   "execution_count": 8,
   "metadata": {},
   "outputs": [],
   "source": [
    "X = pd.DataFrame({'intercept':np.ones_like(x1),'x1':x1,'x2':x2})"
   ]
  },
  {
   "cell_type": "code",
   "execution_count": 9,
   "metadata": {},
   "outputs": [
    {
     "data": {
      "text/html": [
       "<div>\n",
       "<style scoped>\n",
       "    .dataframe tbody tr th:only-of-type {\n",
       "        vertical-align: middle;\n",
       "    }\n",
       "\n",
       "    .dataframe tbody tr th {\n",
       "        vertical-align: top;\n",
       "    }\n",
       "\n",
       "    .dataframe thead th {\n",
       "        text-align: right;\n",
       "    }\n",
       "</style>\n",
       "<table border=\"1\" class=\"dataframe\">\n",
       "  <thead>\n",
       "    <tr style=\"text-align: right;\">\n",
       "      <th></th>\n",
       "      <th>intercept</th>\n",
       "      <th>x1</th>\n",
       "      <th>x2</th>\n",
       "    </tr>\n",
       "  </thead>\n",
       "  <tbody>\n",
       "    <tr>\n",
       "      <th>0</th>\n",
       "      <td>1</td>\n",
       "      <td>3</td>\n",
       "      <td>5</td>\n",
       "    </tr>\n",
       "    <tr>\n",
       "      <th>1</th>\n",
       "      <td>1</td>\n",
       "      <td>6</td>\n",
       "      <td>10</td>\n",
       "    </tr>\n",
       "    <tr>\n",
       "      <th>2</th>\n",
       "      <td>1</td>\n",
       "      <td>9</td>\n",
       "      <td>10</td>\n",
       "    </tr>\n",
       "    <tr>\n",
       "      <th>3</th>\n",
       "      <td>1</td>\n",
       "      <td>12</td>\n",
       "      <td>7</td>\n",
       "    </tr>\n",
       "    <tr>\n",
       "      <th>4</th>\n",
       "      <td>1</td>\n",
       "      <td>13</td>\n",
       "      <td>3</td>\n",
       "    </tr>\n",
       "    <tr>\n",
       "      <th>...</th>\n",
       "      <td>...</td>\n",
       "      <td>...</td>\n",
       "      <td>...</td>\n",
       "    </tr>\n",
       "    <tr>\n",
       "      <th>95</th>\n",
       "      <td>1</td>\n",
       "      <td>3</td>\n",
       "      <td>7</td>\n",
       "    </tr>\n",
       "    <tr>\n",
       "      <th>96</th>\n",
       "      <td>1</td>\n",
       "      <td>19</td>\n",
       "      <td>2</td>\n",
       "    </tr>\n",
       "    <tr>\n",
       "      <th>97</th>\n",
       "      <td>1</td>\n",
       "      <td>16</td>\n",
       "      <td>8</td>\n",
       "    </tr>\n",
       "    <tr>\n",
       "      <th>98</th>\n",
       "      <td>1</td>\n",
       "      <td>17</td>\n",
       "      <td>11</td>\n",
       "    </tr>\n",
       "    <tr>\n",
       "      <th>99</th>\n",
       "      <td>1</td>\n",
       "      <td>5</td>\n",
       "      <td>18</td>\n",
       "    </tr>\n",
       "  </tbody>\n",
       "</table>\n",
       "<p>100 rows × 3 columns</p>\n",
       "</div>"
      ],
      "text/plain": [
       "    intercept  x1  x2\n",
       "0           1   3   5\n",
       "1           1   6  10\n",
       "2           1   9  10\n",
       "3           1  12   7\n",
       "4           1  13   3\n",
       "..        ...  ..  ..\n",
       "95          1   3   7\n",
       "96          1  19   2\n",
       "97          1  16   8\n",
       "98          1  17  11\n",
       "99          1   5  18\n",
       "\n",
       "[100 rows x 3 columns]"
      ]
     },
     "execution_count": 9,
     "metadata": {},
     "output_type": "execute_result"
    }
   ],
   "source": [
    "X"
   ]
  },
  {
   "cell_type": "code",
   "execution_count": 10,
   "metadata": {},
   "outputs": [],
   "source": [
    "#initializing the weights(the betas) to zero\n",
    "w = np.zeros(X.shape[1])"
   ]
  },
  {
   "cell_type": "code",
   "execution_count": 11,
   "metadata": {},
   "outputs": [
    {
     "data": {
      "text/plain": [
       "array([0., 0., 0.])"
      ]
     },
     "execution_count": 11,
     "metadata": {},
     "output_type": "execute_result"
    }
   ],
   "source": [
    "w"
   ]
  },
  {
   "cell_type": "code",
   "execution_count": 12,
   "metadata": {},
   "outputs": [],
   "source": [
    "#function that takes in features(X) and weights(betas or co_efficients) and return the predicted values(y_hat)\n",
    "def predictions(features,weights):\n",
    "    predictions = np.dot(features,weights)\n",
    "    return predictions"
   ]
  },
  {
   "cell_type": "code",
   "execution_count": 13,
   "metadata": {},
   "outputs": [
    {
     "data": {
      "text/plain": [
       "array([0., 0., 0., 0., 0., 0., 0., 0., 0., 0., 0., 0., 0., 0., 0., 0., 0.,\n",
       "       0., 0., 0., 0., 0., 0., 0., 0., 0., 0., 0., 0., 0., 0., 0., 0., 0.,\n",
       "       0., 0., 0., 0., 0., 0., 0., 0., 0., 0., 0., 0., 0., 0., 0., 0., 0.,\n",
       "       0., 0., 0., 0., 0., 0., 0., 0., 0., 0., 0., 0., 0., 0., 0., 0., 0.,\n",
       "       0., 0., 0., 0., 0., 0., 0., 0., 0., 0., 0., 0., 0., 0., 0., 0., 0.,\n",
       "       0., 0., 0., 0., 0., 0., 0., 0., 0., 0., 0., 0., 0., 0., 0.])"
      ]
     },
     "execution_count": 13,
     "metadata": {},
     "output_type": "execute_result"
    }
   ],
   "source": [
    "predictions(X,w)"
   ]
  },
  {
   "cell_type": "code",
   "execution_count": 14,
   "metadata": {},
   "outputs": [],
   "source": [
    "#function that gives the error which the difference between actual and predicted values\n",
    "def myerror(target,features,weights):\n",
    "    error = target - predictions(features,weights)\n",
    "    return error"
   ]
  },
  {
   "cell_type": "code",
   "execution_count": 15,
   "metadata": {},
   "outputs": [],
   "source": [
    "#function that gives the value of cost function\n",
    "def cost_function(target,features,weights):\n",
    "    error = myerror(target,features,weights)\n",
    "    cost = np.dot(error.T,error)\n",
    "    return cost"
   ]
  },
  {
   "cell_type": "code",
   "execution_count": 16,
   "metadata": {},
   "outputs": [
    {
     "data": {
      "text/plain": [
       "133191.71396994777"
      ]
     },
     "execution_count": 16,
     "metadata": {},
     "output_type": "execute_result"
    }
   ],
   "source": [
    "cost_function(y,X,w)"
   ]
  },
  {
   "cell_type": "code",
   "execution_count": 17,
   "metadata": {},
   "outputs": [],
   "source": [
    "#function that gives the value of gradient.Gradient values are the values of derivative of cost function wrt the weights\n",
    "def gradient(target,features,weights):\n",
    "    error = myerror(target,features,weights)\n",
    "    gradient = -np.dot(features.T,error)\n",
    "    return gradient\n",
    "    "
   ]
  },
  {
   "cell_type": "code",
   "execution_count": 18,
   "metadata": {},
   "outputs": [
    {
     "data": {
      "text/plain": [
       "array([ -2757.75475349, -41685.63103964, -21559.15369331])"
      ]
     },
     "execution_count": 18,
     "metadata": {},
     "output_type": "execute_result"
    }
   ],
   "source": [
    "gradient(y,X,w)"
   ]
  },
  {
   "cell_type": "code",
   "execution_count": 19,
   "metadata": {},
   "outputs": [],
   "source": [
    "#function that implements the gradient descent and returns the weights\n",
    "def estimating_weights(target,features,learning_rate):\n",
    "    weights = np.zeros(features.shape[1])\n",
    "    for i in np.arange(100000):\n",
    "        weights = weights - learning_rate * gradient(target,features,weights)\n",
    "        if i%1000==0:\n",
    "            print(cost_function(target,features,weights),weights)\n",
    "    return(weights)\n",
    "    \n",
    "    "
   ]
  },
  {
   "cell_type": "code",
   "execution_count": 20,
   "metadata": {},
   "outputs": [
    {
     "name": "stdout",
     "output_type": "stream",
     "text": [
      "128821.83807264044 [0.00275775 0.04168563 0.02155915]\n",
      "352.6278322947163 [ 0.14736727  3.96144691 -1.64826427]\n",
      "150.23392558539712 [ 0.19024519  4.12610429 -1.84076656]\n",
      "145.6474024385328 [ 0.23325304  4.13522768 -1.85515542]\n",
      "142.01993652269172 [ 0.27573813  4.13410851 -1.85776608]\n",
      "138.49143407172062 [ 0.31766439  4.13233607 -1.85957738]\n",
      "135.05565777630972 [ 0.35903639  4.13054297 -1.86131425]\n",
      "131.71015544290088 [ 0.39986127  4.12877068 -1.86302482]\n",
      "128.4525550837966 [ 0.44014624  4.12702164 -1.86471255]\n",
      "125.28054710321834 [ 0.47989846  4.12529571 -1.86637794]\n",
      "122.19188258955674 [ 0.51912496  4.1235926  -1.8680213 ]\n",
      "119.18437172061658 [ 0.5578327   4.12191202 -1.86964294]\n",
      "116.25588221106264 [ 0.59602854  4.12025367 -1.87124313]\n",
      "113.40433780065382 [ 0.63371925  4.11861724 -1.87282215]\n",
      "110.62771678220537 [ 0.67091151  4.11700246 -1.87438029]\n",
      "107.92405056822412 [ 0.7076119   4.11540903 -1.87591783]\n",
      "105.29142229520569 [ 0.74382695  4.11383668 -1.87743503]\n",
      "102.72796546460505 [ 0.77956305  4.11228512 -1.87893217]\n",
      "100.23186261951165 [ 0.81482655  4.11075408 -1.88040951]\n",
      "97.80134405609871 [ 0.84962371  4.10924328 -1.88186732]\n",
      "95.43468656892526 [ 0.88396067  4.10775247 -1.88330584]\n",
      "93.1302122292073 [ 0.91784354  4.10628137 -1.88472534]\n",
      "90.88628719518701 [ 0.95127831  4.10482973 -1.88612606]\n",
      "88.70132055376291 [ 0.98427092  4.10339728 -1.88750827]\n",
      "86.57376319255133 [ 1.01682721  4.10198378 -1.88887219]\n",
      "84.50210670158762 [ 1.04895294  4.10058897 -1.89021807]\n",
      "82.4848823038829 [ 1.08065382  4.09921261 -1.89154616]\n",
      "80.52065981408143 [ 1.11193547  4.09785445 -1.89285668]\n",
      "78.60804662447636 [ 1.14280342  4.09651425 -1.89414987]\n",
      "76.74568671767156 [ 1.17326315  4.09519177 -1.89542596]\n",
      "74.93225970518154 [ 1.20332005  4.09388679 -1.89668517]\n",
      "73.16647989129456 [ 1.23297946  4.09259906 -1.89792773]\n",
      "71.44709536153121 [ 1.26224663  4.09132836 -1.89915386]\n",
      "69.77288709505291 [ 1.29112675  4.09007447 -1.90036377]\n",
      "68.14266810039352 [ 1.31962493  4.08883716 -1.90155768]\n",
      "66.55528257389655 [ 1.34774623  4.08761621 -1.90273581]\n",
      "65.00960508026792 [ 1.37549564  4.08641141 -1.90389835]\n",
      "63.50453975465487 [ 1.40287806  4.08522254 -1.90504552]\n",
      "62.0390195256935 [ 1.42989836  4.0840494  -1.90617751]\n",
      "60.61200535896997 [ 1.45656132  4.08289177 -1.90729454]\n",
      "59.2224855203574 [ 1.48287167  4.08174945 -1.90839679]\n",
      "57.86947485871049 [ 1.50883407  4.08062223 -1.90948447]\n",
      "56.55201410740651 [ 1.53445312  4.07950993 -1.91055776]\n",
      "55.26916920423819 [ 1.55973337  4.07841233 -1.91161686]\n",
      "54.02003062917515 [ 1.58467929  4.07732925 -1.91266195]\n",
      "52.80371275952744 [ 1.6092953   4.07626049 -1.91369322]\n",
      "51.61935324204952 [ 1.63358578  4.07520587 -1.91471085]\n",
      "50.466112381544434 [ 1.65755502  4.07416519 -1.91571503]\n",
      "49.34317254552996 [ 1.68120727  4.07313828 -1.91670592]\n",
      "48.24973758454914 [ 1.70454672  4.07212494 -1.91768371]\n",
      "47.18503226770993 [ 1.72757752  4.07112501 -1.91864857]\n",
      "46.14830173305677 [ 1.75030373  4.0701383  -1.91960067]\n",
      "45.1388109523845 [ 1.7727294   4.06916464 -1.92054018]\n",
      "44.15584421011246 [ 1.7948585   4.06820386 -1.92146726]\n",
      "43.19870459585077 [ 1.81669494  4.06725578 -1.92238208]\n",
      "42.266713510301514 [ 1.8382426   4.06632025 -1.92328481]\n",
      "41.35921018414035 [ 1.85950529  4.06539708 -1.92417559]\n",
      "40.47555120953933 [ 1.88048679  4.06448612 -1.9250546 ]\n",
      "39.61511008400019 [ 1.90119082  4.06358721 -1.92592198]\n",
      "38.77727676617102 [ 1.92162104  4.06270019 -1.92677789]\n",
      "37.96145724333645 [ 1.94178107  4.0618249  -1.92762248]\n",
      "37.16707311027028 [ 1.9616745   4.06096118 -1.9284559 ]\n",
      "36.39356115915247 [ 1.98130483  4.06010889 -1.9292783 ]\n",
      "35.6403729802646 [ 2.00067556  4.05926787 -1.93008982]\n",
      "34.906974573172434 [ 2.01979012  4.05843797 -1.93089061]\n",
      "34.19284596812727 [ 2.03865189  4.05761904 -1.93168081]\n",
      "33.49748085741533 [ 2.05726421  4.05681095 -1.93246056]\n",
      "32.82038623639137 [ 2.0756304   4.05601354 -1.93323   ]\n",
      "32.16108205394521 [ 2.09375369  4.05522668 -1.93398926]\n",
      "31.519100872152016 [ 2.11163731  4.05445022 -1.93473848]\n",
      "30.893987534864007 [ 2.12928442  4.05368403 -1.9354778 ]\n",
      "30.285298845012058 [ 2.14669815  4.05292798 -1.93620733]\n",
      "29.69260325038422 [ 2.16388159  4.05218192 -1.93692722]\n",
      "29.11548053766123 [ 2.18083778  4.05144573 -1.93763759]\n",
      "28.55352153449004 [ 2.19756973  4.05071928 -1.93833856]\n",
      "28.006327819388005 [ 2.2140804   4.05000243 -1.93903026]\n",
      "27.473511439264584 [ 2.23037272  4.04929507 -1.93971282]\n",
      "26.954694634369403 [ 2.24644958  4.04859705 -1.94038635]\n",
      "26.449509570465843 [ 2.26231383  4.04790827 -1.94105097]\n",
      "25.95759807804093 [ 2.27796828  4.0472286  -1.9417068 ]\n",
      "25.478611398367214 [ 2.2934157   4.04655792 -1.94235396]\n",
      "25.012209936238825 [ 2.30865883  4.0458961  -1.94299256]\n",
      "24.55806301920213 [ 2.32370037  4.04524304 -1.94362272]\n",
      "24.115848663113248 [ 2.33854299  4.04459862 -1.94424454]\n",
      "23.685253343856104 [ 2.35318932  4.04396272 -1.94485813]\n",
      "23.265971775057455 [ 2.36764196  4.04333522 -1.94546362]\n",
      "22.85770669164345 [ 2.38190347  4.04271603 -1.94606109]\n",
      "22.46016863908214 [ 2.39597636  4.04210502 -1.94665067]\n",
      "22.073075768164557 [ 2.40986315  4.0415021  -1.94723244]\n",
      "21.696153635176238 [ 2.42356629  4.04090715 -1.94780653]\n",
      "21.329135007322062 [ 2.43708821  4.04032006 -1.94837302]\n",
      "20.971759673260173 [ 2.4504313   4.03974074 -1.94893202]\n",
      "20.623774258616418 [ 2.46359793  4.03916909 -1.94948363]\n",
      "20.284932046344924 [ 2.47659044  4.03860499 -1.95002794]\n",
      "19.95499280180912 [ 2.48941113  4.03804835 -1.95056505]\n",
      "19.633722602458526 [ 2.50206226  4.03749907 -1.95109506]\n",
      "19.32089367198078 [ 2.51454608  4.03695706 -1.95161806]\n",
      "19.01628421881121 [ 2.52686481  4.03642222 -1.95213415]\n",
      "18.719678278885805 [ 2.53902063  4.03589445 -1.95264341]\n",
      "18.43086556252497 [ 2.55101569  4.03537365 -1.95314593]\n"
     ]
    },
    {
     "data": {
      "text/plain": [
       "array([ 2.56284036,  4.03486026, -1.95364132])"
      ]
     },
     "execution_count": 20,
     "metadata": {},
     "output_type": "execute_result"
    }
   ],
   "source": [
    "estimating_weights(y,X,0.000001)"
   ]
  },
  {
   "cell_type": "markdown",
   "metadata": {},
   "source": [
    "We observe that beta_1 and beta_2 values are close to the actual beta_1 and beta_2  whereas beta_0 is some what deviated from the actual beta_0(which is 3) as we add some noise "
   ]
  },
  {
   "cell_type": "markdown",
   "metadata": {},
   "source": [
    "Let's see the co_efficient values estimated using sklearn"
   ]
  },
  {
   "cell_type": "code",
   "execution_count": 21,
   "metadata": {},
   "outputs": [],
   "source": [
    "from sklearn.linear_model import LinearRegression"
   ]
  },
  {
   "cell_type": "code",
   "execution_count": 22,
   "metadata": {},
   "outputs": [],
   "source": [
    "lr=LinearRegression()"
   ]
  },
  {
   "cell_type": "code",
   "execution_count": 23,
   "metadata": {},
   "outputs": [
    {
     "data": {
      "text/plain": [
       "LinearRegression()"
      ]
     },
     "execution_count": 23,
     "metadata": {},
     "output_type": "execute_result"
    }
   ],
   "source": [
    "lr.fit(X.iloc[:,1:],y)"
   ]
  },
  {
   "cell_type": "code",
   "execution_count": 24,
   "metadata": {},
   "outputs": [
    {
     "data": {
      "text/plain": [
       "array([ 3.99651448, -1.9906421 ])"
      ]
     },
     "execution_count": 24,
     "metadata": {},
     "output_type": "execute_result"
    }
   ],
   "source": [
    "#co_efficents of x1, x2.,i.e the values of beta_1 ,beta_2\n",
    "lr.coef_"
   ]
  },
  {
   "cell_type": "markdown",
   "metadata": {},
   "source": [
    "We observe that the beta_1 and beta_2 values are pretty close to the actual beta_1 and beta_2 values"
   ]
  },
  {
   "cell_type": "code",
   "execution_count": 25,
   "metadata": {},
   "outputs": [
    {
     "data": {
      "text/plain": [
       "3.446034271759107"
      ]
     },
     "execution_count": 25,
     "metadata": {},
     "output_type": "execute_result"
    }
   ],
   "source": [
    "lr.intercept_"
   ]
  },
  {
   "cell_type": "code",
   "execution_count": null,
   "metadata": {},
   "outputs": [],
   "source": []
  }
 ],
 "metadata": {
  "kernelspec": {
   "display_name": "Python 3",
   "language": "python",
   "name": "python3"
  },
  "language_info": {
   "codemirror_mode": {
    "name": "ipython",
    "version": 3
   },
   "file_extension": ".py",
   "mimetype": "text/x-python",
   "name": "python",
   "nbconvert_exporter": "python",
   "pygments_lexer": "ipython3",
   "version": "3.8.3"
  }
 },
 "nbformat": 4,
 "nbformat_minor": 4
}
